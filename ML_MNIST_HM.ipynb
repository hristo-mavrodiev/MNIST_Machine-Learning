{
  "nbformat": 4,
  "nbformat_minor": 0,
  "metadata": {
    "colab": {
      "name": "ML_MNIST_HM.ipynb",
      "provenance": [],
      "collapsed_sections": [],
      "toc_visible": true
    },
    "kernelspec": {
      "name": "python3",
      "display_name": "Python 3"
    }
  },
  "cells": [
    {
      "cell_type": "markdown",
      "metadata": {
        "id": "I-pekaAq6Fzc",
        "colab_type": "text"
      },
      "source": [
        "[![Open In Colab](https://colab.research.google.com/assets/colab-badge.svg)](https://colab.research.google.com/drive/185s49NcLNc-XnyJ8e5Oho9vgu89JMoou)\n",
        "\n",
        "\n",
        "\n"
      ]
    },
    {
      "cell_type": "code",
      "metadata": {
        "id": "VuB9rCaiS4Xu",
        "colab_type": "code",
        "outputId": "450a41a3-b17a-449c-85d9-3ce63dc2d81a",
        "colab": {
          "base_uri": "https://localhost:8080/",
          "height": 193
        }
      },
      "source": [
        "!pip install nose\n",
        "!pip install matplotlib==3.0.3\n",
        "#Runtime -> Restart \n",
        "#downgrade of matplotlib for seaborn heatmap, otherwise corners are cutted."
      ],
      "execution_count": 0,
      "outputs": [
        {
          "output_type": "stream",
          "text": [
            "Requirement already satisfied: nose in /usr/local/lib/python3.6/dist-packages (1.3.7)\n",
            "Requirement already satisfied: matplotlib==3.0.3 in /usr/local/lib/python3.6/dist-packages (3.0.3)\n",
            "Requirement already satisfied: cycler>=0.10 in /usr/local/lib/python3.6/dist-packages (from matplotlib==3.0.3) (0.10.0)\n",
            "Requirement already satisfied: kiwisolver>=1.0.1 in /usr/local/lib/python3.6/dist-packages (from matplotlib==3.0.3) (1.1.0)\n",
            "Requirement already satisfied: pyparsing!=2.0.4,!=2.1.2,!=2.1.6,>=2.0.1 in /usr/local/lib/python3.6/dist-packages (from matplotlib==3.0.3) (2.4.5)\n",
            "Requirement already satisfied: python-dateutil>=2.1 in /usr/local/lib/python3.6/dist-packages (from matplotlib==3.0.3) (2.6.1)\n",
            "Requirement already satisfied: numpy>=1.10.0 in /usr/local/lib/python3.6/dist-packages (from matplotlib==3.0.3) (1.17.4)\n",
            "Requirement already satisfied: six in /usr/local/lib/python3.6/dist-packages (from cycler>=0.10->matplotlib==3.0.3) (1.12.0)\n",
            "Requirement already satisfied: setuptools in /usr/local/lib/python3.6/dist-packages (from kiwisolver>=1.0.1->matplotlib==3.0.3) (41.6.0)\n"
          ],
          "name": "stdout"
        }
      ]
    },
    {
      "cell_type": "code",
      "metadata": {
        "id": "i3HPen_O3CAr",
        "colab_type": "code",
        "colab": {}
      },
      "source": [
        "import pickle\n",
        "from urllib.request import urlopen\n",
        "\n",
        "import pandas as pd\n",
        "import numpy as np\n",
        "import matplotlib.pyplot as plt\n",
        "%matplotlib inline\n",
        "\n",
        "np.random.seed(42)\n",
        "np.random.RandomState(42)\n",
        "\n",
        "import warnings\n",
        "import sklearn.exceptions\n",
        "warnings.filterwarnings(\"ignore\", category=sklearn.exceptions.ConvergenceWarning)\n",
        "warnings.filterwarnings(\"ignore\", category=DeprecationWarning)\n",
        "warnings.filterwarnings(\"ignore\", category=FutureWarning)\n",
        "\n",
        "import time\n",
        "import seaborn as sns\n",
        "\n",
        "from nose.tools import *\n",
        "\n",
        "from sklearn.linear_model import LogisticRegression\n",
        "from sklearn.neighbors import KNeighborsClassifier\n",
        "from sklearn.svm import SVC,LinearSVC\n",
        "from sklearn.model_selection import GridSearchCV,cross_val_score\n",
        "from sklearn import preprocessing\n",
        "from sklearn.ensemble import BaggingClassifier, RandomForestClassifier \n",
        "from xgboost.sklearn import XGBClassifier\n",
        "from sklearn.decomposition import PCA\n",
        "from sklearn.metrics import confusion_matrix, accuracy_score, \n"
      ],
      "execution_count": 0,
      "outputs": []
    },
    {
      "cell_type": "markdown",
      "metadata": {
        "id": "biNm4zEF5DnP",
        "colab_type": "text"
      },
      "source": [
        "# MNIST classification with machine learning algorithms\n",
        "\n",
        "\n",
        "\n",
        "## Author: Hristo Mavrodiev\n",
        "Project requirements - [link](https://www.dropbox.com/s/yd458ut3qbo3tr0/assessment-guidelines.txt?dl=1)\n"
      ]
    },
    {
      "cell_type": "markdown",
      "metadata": {
        "id": "_7126eSVzCnk",
        "colab_type": "text"
      },
      "source": [
        "## Abstract:\n",
        "The purpose of this research is to try a machine learning approach for classification on MNIST dataset. The research contains: Data exploration, feature scaling, dimensionality reduction, cross validation, tuning an algorithm. With KNeighborsClassifier is achived the higher accuracy.\n",
        "\n",
        "\n",
        "\n"
      ]
    },
    {
      "cell_type": "markdown",
      "metadata": {
        "id": "qdCGlwcJzE9K",
        "colab_type": "text"
      },
      "source": [
        "## Introduction:\n",
        "The MNIST is one of the classic datasets for classification. This dataset is widely used in many reseach and evaluated with many machine learning alorithms and neural networks. The used algorithms are LogisticRegression, XGBoost, SVM, K-neighborClassifier, RandomForest."
      ]
    },
    {
      "cell_type": "markdown",
      "metadata": {
        "id": "9_a6FL6zQsZI",
        "colab_type": "text"
      },
      "source": [
        "## The  Datasets description\n",
        " The data is gathered from build-in datasets in keras:  \n",
        " \n",
        "\"*The original black and white (bilevel) images from NIST were size normalized to fit in a 20x20 pixel box while preserving their aspect ratio. The resulting images contain grey levels as a result of the anti-aliasing technique used by the normalization algorithm. the images were centered in a 28x28 image by computing the center of mass of the pixels, and translating the image so as to position this point at the center of the 28x28 field.*\" [1]\n"
      ]
    },
    {
      "cell_type": "markdown",
      "metadata": {
        "id": "aIDqk4koFY5A",
        "colab_type": "text"
      },
      "source": [
        "## 1.Data loading and exploration\n"
      ]
    },
    {
      "cell_type": "code",
      "metadata": {
        "id": "yIUlaqYu9Rrg",
        "colab_type": "code",
        "outputId": "2ded4454-4e05-47f0-acf2-0f5b169d834d",
        "colab": {
          "base_uri": "https://localhost:8080/",
          "height": 133
        }
      },
      "source": [
        "from keras.datasets import mnist\n",
        "(x_train, y_train), (x_test, y_test) = mnist.load_data()"
      ],
      "execution_count": 0,
      "outputs": [
        {
          "output_type": "stream",
          "text": [
            "Using TensorFlow backend.\n"
          ],
          "name": "stderr"
        },
        {
          "output_type": "display_data",
          "data": {
            "text/html": [
              "<p style=\"color: red;\">\n",
              "The default version of TensorFlow in Colab will soon switch to TensorFlow 2.x.<br>\n",
              "We recommend you <a href=\"https://www.tensorflow.org/guide/migrate\" target=\"_blank\">upgrade</a> now \n",
              "or ensure your notebook will continue to use TensorFlow 1.x via the <code>%tensorflow_version 1.x</code> magic:\n",
              "<a href=\"https://colab.research.google.com/notebooks/tensorflow_version.ipynb\" target=\"_blank\">more info</a>.</p>\n"
            ],
            "text/plain": [
              "<IPython.core.display.HTML object>"
            ]
          },
          "metadata": {
            "tags": []
          }
        },
        {
          "output_type": "stream",
          "text": [
            "Downloading data from https://s3.amazonaws.com/img-datasets/mnist.npz\n",
            "11493376/11490434 [==============================] - 0s 0us/step\n"
          ],
          "name": "stdout"
        }
      ]
    },
    {
      "cell_type": "code",
      "metadata": {
        "id": "JE9Kc6-g67RM",
        "colab_type": "code",
        "outputId": "1ac1d138-34ff-4eb6-a027-a448422fc855",
        "colab": {
          "base_uri": "https://localhost:8080/",
          "height": 34
        }
      },
      "source": [
        "x_train.shape"
      ],
      "execution_count": 0,
      "outputs": [
        {
          "output_type": "execute_result",
          "data": {
            "text/plain": [
              "(60000, 28, 28)"
            ]
          },
          "metadata": {
            "tags": []
          },
          "execution_count": 4
        }
      ]
    },
    {
      "cell_type": "code",
      "metadata": {
        "id": "Iyju8MyJLvxc",
        "colab_type": "code",
        "outputId": "e38c7f19-56f0-4eef-926f-92d8c9816321",
        "colab": {
          "base_uri": "https://localhost:8080/",
          "height": 34
        }
      },
      "source": [
        "y_train.shape"
      ],
      "execution_count": 0,
      "outputs": [
        {
          "output_type": "execute_result",
          "data": {
            "text/plain": [
              "(60000,)"
            ]
          },
          "metadata": {
            "tags": []
          },
          "execution_count": 5
        }
      ]
    },
    {
      "cell_type": "code",
      "metadata": {
        "id": "VkPNZ5bVLx3v",
        "colab_type": "code",
        "outputId": "c8541882-9e75-4343-91bb-418162b1ac5e",
        "colab": {
          "base_uri": "https://localhost:8080/",
          "height": 34
        }
      },
      "source": [
        "x_test.shape"
      ],
      "execution_count": 0,
      "outputs": [
        {
          "output_type": "execute_result",
          "data": {
            "text/plain": [
              "(10000, 28, 28)"
            ]
          },
          "metadata": {
            "tags": []
          },
          "execution_count": 6
        }
      ]
    },
    {
      "cell_type": "code",
      "metadata": {
        "id": "KjLcWbAHLz1T",
        "colab_type": "code",
        "outputId": "bbfcc32c-0468-46f0-93a1-e6cb58645313",
        "colab": {
          "base_uri": "https://localhost:8080/",
          "height": 34
        }
      },
      "source": [
        "y_test.shape"
      ],
      "execution_count": 0,
      "outputs": [
        {
          "output_type": "execute_result",
          "data": {
            "text/plain": [
              "(10000,)"
            ]
          },
          "metadata": {
            "tags": []
          },
          "execution_count": 7
        }
      ]
    },
    {
      "cell_type": "code",
      "metadata": {
        "id": "JceCtUtw-rEG",
        "colab_type": "code",
        "outputId": "43f3b416-ff78-40a6-9728-c85afcc2d002",
        "colab": {
          "base_uri": "https://localhost:8080/",
          "height": 607
        }
      },
      "source": [
        "def plot_sample_mnist(n):\n",
        "    \"\"\"\n",
        "    Function for plotting n samples of the dataset.\n",
        "    Input:\n",
        "    ---------\n",
        "    n: number of samples\n",
        "    \n",
        "    Output:\n",
        "    ---------\n",
        "    plot with n samples\n",
        "    \n",
        "    \"\"\"\n",
        "    \n",
        "    assert(n%2 ==0)\n",
        "    \n",
        "    fig = plt.figure(figsize=(10,10))\n",
        "    fig.subplots_adjust(hspace=.5)\n",
        "    for i in range(n):\n",
        "        ax = fig.add_subplot(n/2,2,i+1)\n",
        "        ax.imshow(x_train[i],  cmap='gray', interpolation='none')\n",
        "        ax.set_title(f'The label is {y_train[i]}')\n",
        "plot_sample_mnist(8)"
      ],
      "execution_count": 0,
      "outputs": [
        {
          "output_type": "display_data",
          "data": {
            "image/png": "[encoded data removed]",
            "text/plain": [
              "<Figure size 720x720 with 8 Axes>"
            ]
          },
          "metadata": {
            "tags": []
          }
        }
      ]
    },
    {
      "cell_type": "code",
      "metadata": {
        "id": "E-guy_5lohUA",
        "colab_type": "code",
        "outputId": "dbe52d8b-e7e1-43d1-fff7-4c40c0c40665",
        "colab": {
          "base_uri": "https://localhost:8080/",
          "height": 34
        }
      },
      "source": [
        "x_train.shape"
      ],
      "execution_count": 0,
      "outputs": [
        {
          "output_type": "execute_result",
          "data": {
            "text/plain": [
              "(60000, 28, 28)"
            ]
          },
          "metadata": {
            "tags": []
          },
          "execution_count": 9
        }
      ]
    },
    {
      "cell_type": "code",
      "metadata": {
        "id": "oYtZml45YK8d",
        "colab_type": "code",
        "outputId": "b7f11a1c-9bca-4a60-ff82-2834385fbb9c",
        "colab": {
          "base_uri": "https://localhost:8080/",
          "height": 312
        }
      },
      "source": [
        "sns.countplot(y_train)\n",
        "plt.title('Distribution of train set')\n",
        "plt.xlabel('label')"
      ],
      "execution_count": 0,
      "outputs": [
        {
          "output_type": "execute_result",
          "data": {
            "text/plain": [
              "Text(0.5, 0, 'label')"
            ]
          },
          "metadata": {
            "tags": []
          },
          "execution_count": 10
        },
        {
          "output_type": "display_data",
          "data": {
            "image/png": "[encoded data removed]",
            "text/plain": [
              "<Figure size 432x288 with 1 Axes>"
            ]
          },
          "metadata": {
            "tags": []
          }
        }
      ]
    },
    {
      "cell_type": "code",
      "metadata": {
        "id": "lDgdONyhYY2C",
        "colab_type": "code",
        "outputId": "e8dee64f-10e0-478e-e4bc-92344d458d02",
        "colab": {
          "base_uri": "https://localhost:8080/",
          "height": 312
        }
      },
      "source": [
        "sns.countplot(y_test)\n",
        "plt.title('Distribution of test set')\n",
        "plt.xlabel('label')"
      ],
      "execution_count": 0,
      "outputs": [
        {
          "output_type": "execute_result",
          "data": {
            "text/plain": [
              "Text(0.5, 0, 'label')"
            ]
          },
          "metadata": {
            "tags": []
          },
          "execution_count": 11
        },
        {
          "output_type": "display_data",
          "data": {
            "image/png": "[encoded data removed]",
            "text/plain": [
              "<Figure size 432x288 with 1 Axes>"
            ]
          },
          "metadata": {
            "tags": []
          }
        }
      ]
    },
    {
      "cell_type": "markdown",
      "metadata": {
        "id": "DxtYH1p0wMXV",
        "colab_type": "text"
      },
      "source": [
        "The labels are shuffled and balanced, there is no need for oversampling."
      ]
    },
    {
      "cell_type": "markdown",
      "metadata": {
        "id": "9ryNOsyzI04s",
        "colab_type": "text"
      },
      "source": [
        "## 2.Feature scaling and dimensionality reduction"
      ]
    },
    {
      "cell_type": "markdown",
      "metadata": {
        "id": "zlWS6PiC_ngs",
        "colab_type": "text"
      },
      "source": [
        "The feature scaling is performed with devide by the max value 255, this will be enought to limit the values between 0 and 1."
      ]
    },
    {
      "cell_type": "code",
      "metadata": {
        "id": "eHbdK3JD_vmh",
        "colab_type": "code",
        "colab": {}
      },
      "source": [
        "x_train = x_train.astype('float32')\n",
        "x_test = x_test.astype('float32')\n",
        "x_train /= 255\n",
        "x_test /= 255"
      ],
      "execution_count": 0,
      "outputs": []
    },
    {
      "cell_type": "code",
      "metadata": {
        "id": "1ztd1Sl1_w3C",
        "colab_type": "code",
        "outputId": "4ea34b8f-02c0-4811-ecf3-e4db8676b34b",
        "colab": {
          "base_uri": "https://localhost:8080/",
          "height": 286
        }
      },
      "source": [
        "plt.imshow(x_test[0], cmap='gray', interpolation='none')"
      ],
      "execution_count": 0,
      "outputs": [
        {
          "output_type": "execute_result",
          "data": {
            "text/plain": [
              "<matplotlib.image.AxesImage at 0x7f376be5c048>"
            ]
          },
          "metadata": {
            "tags": []
          },
          "execution_count": 13
        },
        {
          "output_type": "display_data",
          "data": {
            "image/png": "[encoded data removed]",
            "text/plain": [
              "<Figure size 432x288 with 1 Axes>"
            ]
          },
          "metadata": {
            "tags": []
          }
        }
      ]
    },
    {
      "cell_type": "code",
      "metadata": {
        "id": "RLfFAF0CDl1s",
        "colab_type": "code",
        "colab": {}
      },
      "source": [
        "x_train = x_train.reshape(x_train.shape[0], 784)\n",
        "x_test = x_test.reshape(x_test.shape[0], 784)"
      ],
      "execution_count": 0,
      "outputs": []
    },
    {
      "cell_type": "code",
      "metadata": {
        "id": "jVlWJv0bNSFW",
        "colab_type": "code",
        "outputId": "50c879dc-9edc-41a0-d135-1b0a68694eeb",
        "colab": {
          "base_uri": "https://localhost:8080/",
          "height": 283
        }
      },
      "source": [
        "def pca_analysis(x_train):\n",
        "    \"\"\"\n",
        "    Function to plot the cumulative explained variance in the data based of n_components.\n",
        "    \n",
        "    \"\"\"\n",
        "\n",
        "    pca = PCA().fit(x_train)\n",
        "    plt.plot(np.cumsum(pca.explained_variance_ratio_))\n",
        "    plt.xlabel('number of components')\n",
        "    plt.ylabel('cumulative explained variance');\n",
        "pca_analysis(x_train)\n"
      ],
      "execution_count": 0,
      "outputs": [
        {
          "output_type": "display_data",
          "data": {
            "image/png": "[encoded data removed]",
            "text/plain": [
              "<Figure size 432x288 with 1 Axes>"
            ]
          },
          "metadata": {
            "tags": []
          }
        }
      ]
    },
    {
      "cell_type": "code",
      "metadata": {
        "id": "bb2ow0FzSKxp",
        "colab_type": "code",
        "outputId": "2ec861b4-d108-472b-fb90-fde002713224",
        "colab": {
          "base_uri": "https://localhost:8080/",
          "height": 34
        }
      },
      "source": [
        "pca = PCA(n_components=25)\n",
        "x_train_tr = pca.fit_transform(x_train)\n",
        "x_test_tr = pca.transform(x_test)\n",
        "print(f'Explained variance after PCA is {sum(pca.explained_variance_ratio_)*100:.1f} %')"
      ],
      "execution_count": 0,
      "outputs": [
        {
          "output_type": "stream",
          "text": [
            "Explained variance after PCA is 69.2 %\n"
          ],
          "name": "stdout"
        }
      ]
    },
    {
      "cell_type": "markdown",
      "metadata": {
        "id": "MmYxOZ--x5_Y",
        "colab_type": "text"
      },
      "source": [
        "The dimensions of the data are reduced, this will speed up the  training time of the algorithms. Another option is to reduce the number of observations(rows). The explained variance is reduced to 70%, should be good enough for correct predictions. The datasourse are pictures, so the reduction is not so much. This step is affecting the final score."
      ]
    },
    {
      "cell_type": "markdown",
      "metadata": {
        "id": "0L6bifzwJBa7",
        "colab_type": "text"
      },
      "source": [
        "## 3.Machine Learning"
      ]
    },
    {
      "cell_type": "markdown",
      "metadata": {
        "colab_type": "text",
        "id": "b8nc75RHFlUW"
      },
      "source": [
        "## 3.1 Choosing an algorithm"
      ]
    },
    {
      "cell_type": "code",
      "metadata": {
        "id": "h1PnCKifbw8Q",
        "colab_type": "code",
        "outputId": "bea72734-c315-4a94-be1e-be7b086fa22a",
        "colab": {
          "base_uri": "https://localhost:8080/",
          "height": 238
        }
      },
      "source": [
        "def test_algorithms():\n",
        "    \n",
        "    \"\"\"\n",
        "    Function to compare several algorithms on train set.\n",
        "    \"\"\"\n",
        "    \n",
        "    classifiers = [\n",
        "        LogisticRegression(),\n",
        "        RandomForestClassifier(random_state=42),\n",
        "        LinearSVC(random_state=42),\n",
        "        SVC(),\n",
        "        KNeighborsClassifier(),\n",
        "        XGBClassifier(n_estimators = 30, random_state=42),\n",
        "         \n",
        "        ]\n",
        "    \n",
        "    cls_columns=['algorithm','score_rmsle_mean','score_std','time']\n",
        "    cls_performance = pd.DataFrame(columns=cls_columns)\n",
        "    print('Please wait for all algorithms to complete training.')\n",
        "    for classifier in (classifiers):\n",
        "        time_start = time.time()\n",
        "        cv_results = cross_val_score(classifier, x_train_tr,y_train)\n",
        "        time_end = round(time.time() - time_start,3)\n",
        "        mean_score = round(cv_results.mean(),4)\n",
        "        std_score = round(cv_results.std(),4)\n",
        "        temp= pd.DataFrame([[classifier.__class__.__name__,mean_score,std_score,time_end]],columns = cls_columns)\n",
        "        cls_performance = cls_performance.append(temp, ignore_index=True)\n",
        "        print(classifier.__class__.__name__ , ' Score = ',mean_score , 'with std=',std_score ,\" execution_time =  \", time_end,\"s\")\n",
        "    return cls_performance\n",
        "#NOT EXECUTED TO SAVE 5 minutes\n",
        "#cls_performance = test_algorithms()\n",
        "#cls_performance.to_csv('Crossval.csv')\n",
        "cls_performance = pd.read_csv('https://www.dropbox.com/s/ju02su0g7ha2l31/Crossval.csv?dl=1',index_col='Unnamed: 0')\n",
        "cls_performance"
      ],
      "execution_count": 0,
      "outputs": [
        {
          "output_type": "execute_result",
          "data": {
            "text/html": [
              "<div>\n",
              "<style scoped>\n",
              "    .dataframe tbody tr th:only-of-type {\n",
              "        vertical-align: middle;\n",
              "    }\n",
              "\n",
              "    .dataframe tbody tr th {\n",
              "        vertical-align: top;\n",
              "    }\n",
              "\n",
              "    .dataframe thead th {\n",
              "        text-align: right;\n",
              "    }\n",
              "</style>\n",
              "<table border=\"1\" class=\"dataframe\">\n",
              "  <thead>\n",
              "    <tr style=\"text-align: right;\">\n",
              "      <th></th>\n",
              "      <th>algorithm</th>\n",
              "      <th>score_rmsle_mean</th>\n",
              "      <th>score_std</th>\n",
              "      <th>time</th>\n",
              "    </tr>\n",
              "  </thead>\n",
              "  <tbody>\n",
              "    <tr>\n",
              "      <th>0</th>\n",
              "      <td>LogisticRegression</td>\n",
              "      <td>0.8703</td>\n",
              "      <td>0.0037</td>\n",
              "      <td>21.009</td>\n",
              "    </tr>\n",
              "    <tr>\n",
              "      <th>1</th>\n",
              "      <td>RandomForestClassifier</td>\n",
              "      <td>0.9208</td>\n",
              "      <td>0.0034</td>\n",
              "      <td>8.759</td>\n",
              "    </tr>\n",
              "    <tr>\n",
              "      <th>2</th>\n",
              "      <td>LinearSVC</td>\n",
              "      <td>0.8678</td>\n",
              "      <td>0.0045</td>\n",
              "      <td>67.573</td>\n",
              "    </tr>\n",
              "    <tr>\n",
              "      <th>3</th>\n",
              "      <td>SVC</td>\n",
              "      <td>0.9775</td>\n",
              "      <td>0.0013</td>\n",
              "      <td>86.868</td>\n",
              "    </tr>\n",
              "    <tr>\n",
              "      <th>4</th>\n",
              "      <td>KNeighborsClassifier</td>\n",
              "      <td>0.9703</td>\n",
              "      <td>0.0009</td>\n",
              "      <td>59.591</td>\n",
              "    </tr>\n",
              "    <tr>\n",
              "      <th>5</th>\n",
              "      <td>XGBClassifier</td>\n",
              "      <td>0.8294</td>\n",
              "      <td>0.0030</td>\n",
              "      <td>64.003</td>\n",
              "    </tr>\n",
              "  </tbody>\n",
              "</table>\n",
              "</div>"
            ],
            "text/plain": [
              "                algorithm  score_rmsle_mean  score_std    time\n",
              "0      LogisticRegression            0.8703     0.0037  21.009\n",
              "1  RandomForestClassifier            0.9208     0.0034   8.759\n",
              "2               LinearSVC            0.8678     0.0045  67.573\n",
              "3                     SVC            0.9775     0.0013  86.868\n",
              "4    KNeighborsClassifier            0.9703     0.0009  59.591\n",
              "5           XGBClassifier            0.8294     0.0030  64.003"
            ]
          },
          "metadata": {
            "tags": []
          },
          "execution_count": 17
        }
      ]
    },
    {
      "cell_type": "markdown",
      "metadata": {
        "id": "ww2S-lg0w4l4",
        "colab_type": "text"
      },
      "source": [
        "The algorithms with top performance are SVC and KNeighborsClassifier. The SVC is more accurate, but KNC is more stable(less deviation) and faster (~25sec). As a top algorithm is choosen the KNeighborsClassfier to be tuned up."
      ]
    },
    {
      "cell_type": "markdown",
      "metadata": {
        "id": "1MpxmjCC014F",
        "colab_type": "text"
      },
      "source": [
        "## 3.2 KNeighborsClassifier tuning"
      ]
    },
    {
      "cell_type": "code",
      "metadata": {
        "id": "u-ahKAKaICSG",
        "colab_type": "code",
        "colab": {}
      },
      "source": [
        "def export_model(model):\n",
        "    \"\"\"\n",
        "    Export sklearn trained model to a file.\n",
        "    Input:model:sklearn trained model\n",
        "    \"\"\"\n",
        "    pickle.dump(model, open(model.__class__.__name__ + '.model', 'wb'))\n",
        "    print('Model saved as ' + model.__class__.__name__ + '.model')"
      ],
      "execution_count": 0,
      "outputs": []
    },
    {
      "cell_type": "code",
      "metadata": {
        "id": "4FRM7yniKwnh",
        "colab_type": "code",
        "colab": {}
      },
      "source": [
        "def load_pickle(url):\n",
        "    \"\"\"\n",
        "    Load existing trained model from pickle.\n",
        "    Inputs:\n",
        "    -------\n",
        "    - url: url of the algorithm that will be downloaded\n",
        "    \n",
        "    Output:\n",
        "    -------\n",
        "    - sklearn trained model\n",
        "    \n",
        "    \"\"\"\n",
        "    try:\n",
        "        loaded_model = pickle.load(urlopen(url))\n",
        "        print('Model loaded.')\n",
        "        return loaded_model\n",
        "    except:\n",
        "        print('Unable to load the model from url.')\n",
        "        return 0"
      ],
      "execution_count": 0,
      "outputs": []
    },
    {
      "cell_type": "code",
      "metadata": {
        "id": "KUt3gUJ43adJ",
        "colab_type": "code",
        "colab": {}
      },
      "source": [
        "#Long running cell commented to save time\n",
        "#grid_values = {'n_neighbors': [3,5,7,9]}\n",
        "#grid_knn = GridSearchCV(KNeighborsClassifier(), n_jobs=-1, param_grid = grid_values, cv=3, scoring ='accuracy')\n",
        "#grid_knn.fit(x_train_tr, y_train)\n",
        "#export_model(grid_knn.best_estimator_)\n",
        "#pd.DataFrame(grid_knn.cv_results_).to_csv('KNN_cv_results.csv')"
      ],
      "execution_count": 0,
      "outputs": []
    },
    {
      "cell_type": "code",
      "metadata": {
        "id": "MkMrdkjN7fjt",
        "colab_type": "code",
        "colab": {}
      },
      "source": [
        "#grid_knn.best_estimator_"
      ],
      "execution_count": 0,
      "outputs": []
    },
    {
      "cell_type": "code",
      "metadata": {
        "id": "lgeNP_BpDfjy",
        "colab_type": "code",
        "outputId": "da8ebf0b-04f5-44ea-ada4-336ca404ca97",
        "colab": {
          "base_uri": "https://localhost:8080/",
          "height": 34
        }
      },
      "source": [
        "tuned_knn = load_pickle('https://www.dropbox.com/s/qrams1ronigiru4/KNeighborsClassifier.model?dl=1')"
      ],
      "execution_count": 0,
      "outputs": [
        {
          "output_type": "stream",
          "text": [
            "Model loaded.\n"
          ],
          "name": "stdout"
        }
      ]
    },
    {
      "cell_type": "code",
      "metadata": {
        "id": "Esllh8yPAofv",
        "colab_type": "code",
        "outputId": "91b5daf1-0d5d-4eb2-a241-7ce0d86ad7e8",
        "colab": {
          "base_uri": "https://localhost:8080/",
          "height": 282
        }
      },
      "source": [
        "cv_results = pd.read_csv('https://www.dropbox.com/s/gmm51xfvm2jwg67/KNN_cv_results.csv?dl=1')\n",
        "cv_results"
      ],
      "execution_count": 0,
      "outputs": [
        {
          "output_type": "execute_result",
          "data": {
            "text/html": [
              "<div>\n",
              "<style scoped>\n",
              "    .dataframe tbody tr th:only-of-type {\n",
              "        vertical-align: middle;\n",
              "    }\n",
              "\n",
              "    .dataframe tbody tr th {\n",
              "        vertical-align: top;\n",
              "    }\n",
              "\n",
              "    .dataframe thead th {\n",
              "        text-align: right;\n",
              "    }\n",
              "</style>\n",
              "<table border=\"1\" class=\"dataframe\">\n",
              "  <thead>\n",
              "    <tr style=\"text-align: right;\">\n",
              "      <th></th>\n",
              "      <th>Unnamed: 0</th>\n",
              "      <th>mean_fit_time</th>\n",
              "      <th>std_fit_time</th>\n",
              "      <th>mean_score_time</th>\n",
              "      <th>std_score_time</th>\n",
              "      <th>param_n_neighbors</th>\n",
              "      <th>params</th>\n",
              "      <th>split0_test_score</th>\n",
              "      <th>split1_test_score</th>\n",
              "      <th>split2_test_score</th>\n",
              "      <th>mean_test_score</th>\n",
              "      <th>std_test_score</th>\n",
              "      <th>rank_test_score</th>\n",
              "    </tr>\n",
              "  </thead>\n",
              "  <tbody>\n",
              "    <tr>\n",
              "      <th>0</th>\n",
              "      <td>0</td>\n",
              "      <td>0.111226</td>\n",
              "      <td>0.013267</td>\n",
              "      <td>35.005893</td>\n",
              "      <td>1.560943</td>\n",
              "      <td>3</td>\n",
              "      <td>{'n_neighbors': 3}</td>\n",
              "      <td>0.972456</td>\n",
              "      <td>0.969798</td>\n",
              "      <td>0.969295</td>\n",
              "      <td>0.970517</td>\n",
              "      <td>0.001386</td>\n",
              "      <td>1</td>\n",
              "    </tr>\n",
              "    <tr>\n",
              "      <th>1</th>\n",
              "      <td>1</td>\n",
              "      <td>0.099643</td>\n",
              "      <td>0.003002</td>\n",
              "      <td>38.095394</td>\n",
              "      <td>0.731080</td>\n",
              "      <td>5</td>\n",
              "      <td>{'n_neighbors': 5}</td>\n",
              "      <td>0.971406</td>\n",
              "      <td>0.969298</td>\n",
              "      <td>0.970146</td>\n",
              "      <td>0.970283</td>\n",
              "      <td>0.000866</td>\n",
              "      <td>2</td>\n",
              "    </tr>\n",
              "    <tr>\n",
              "      <th>2</th>\n",
              "      <td>2</td>\n",
              "      <td>0.100786</td>\n",
              "      <td>0.003916</td>\n",
              "      <td>41.877446</td>\n",
              "      <td>0.622966</td>\n",
              "      <td>7</td>\n",
              "      <td>{'n_neighbors': 7}</td>\n",
              "      <td>0.970406</td>\n",
              "      <td>0.968998</td>\n",
              "      <td>0.969245</td>\n",
              "      <td>0.969550</td>\n",
              "      <td>0.000614</td>\n",
              "      <td>3</td>\n",
              "    </tr>\n",
              "    <tr>\n",
              "      <th>3</th>\n",
              "      <td>3</td>\n",
              "      <td>0.101647</td>\n",
              "      <td>0.001528</td>\n",
              "      <td>43.528261</td>\n",
              "      <td>2.394375</td>\n",
              "      <td>9</td>\n",
              "      <td>{'n_neighbors': 9}</td>\n",
              "      <td>0.968956</td>\n",
              "      <td>0.967598</td>\n",
              "      <td>0.967845</td>\n",
              "      <td>0.968133</td>\n",
              "      <td>0.000591</td>\n",
              "      <td>4</td>\n",
              "    </tr>\n",
              "  </tbody>\n",
              "</table>\n",
              "</div>"
            ],
            "text/plain": [
              "   Unnamed: 0  mean_fit_time  ...  std_test_score  rank_test_score\n",
              "0           0       0.111226  ...        0.001386                1\n",
              "1           1       0.099643  ...        0.000866                2\n",
              "2           2       0.100786  ...        0.000614                3\n",
              "3           3       0.101647  ...        0.000591                4\n",
              "\n",
              "[4 rows x 13 columns]"
            ]
          },
          "metadata": {
            "tags": []
          },
          "execution_count": 23
        }
      ]
    },
    {
      "cell_type": "markdown",
      "metadata": {
        "id": "aOKMyUV0A_4_",
        "colab_type": "text"
      },
      "source": [
        "The algorithm with 5 neighbors is on second place, with lower std score. The algorithm with 3 neighbors is faster and with better accuracy - 0.9705."
      ]
    },
    {
      "cell_type": "code",
      "metadata": {
        "id": "HDf7J15_Mj32",
        "colab_type": "code",
        "outputId": "04c737f1-86cc-48f7-dbd9-eddd182683ba",
        "colab": {
          "base_uri": "https://localhost:8080/",
          "height": 34
        }
      },
      "source": [
        "train_score = accuracy_score(y_train, tuned_knn.predict(x_train_tr))\n",
        "print(f'The score on training set is {train_score:.4f}')"
      ],
      "execution_count": 0,
      "outputs": [
        {
          "output_type": "stream",
          "text": [
            "The score on training set is 0.9876\n"
          ],
          "name": "stdout"
        }
      ]
    },
    {
      "cell_type": "markdown",
      "metadata": {
        "id": "ki5_kp76ub27",
        "colab_type": "text"
      },
      "source": [
        "## 3.3.Scoring on the testing set."
      ]
    },
    {
      "cell_type": "code",
      "metadata": {
        "id": "e-f_bZCIHPAx",
        "colab_type": "code",
        "outputId": "b5e8c2bf-c0e0-420a-f596-069155a3b88d",
        "colab": {
          "base_uri": "https://localhost:8080/",
          "height": 34
        }
      },
      "source": [
        "y_pred_test = tuned_knn.predict(x_test_tr)\n",
        "test_score = accuracy_score(y_test, y_pred_test)\n",
        "print(f'The score on training set is {test_score:.4f}')"
      ],
      "execution_count": 0,
      "outputs": [
        {
          "output_type": "stream",
          "text": [
            "The score on training set is 0.9729\n"
          ],
          "name": "stdout"
        }
      ]
    },
    {
      "cell_type": "code",
      "metadata": {
        "id": "poyo4JJNe-dv",
        "colab_type": "code",
        "outputId": "fa268ae6-297d-4521-f043-f26037adb538",
        "colab": {
          "base_uri": "https://localhost:8080/",
          "height": 475
        }
      },
      "source": [
        "def plot_confusion_matrix(y_test, y_pred):\n",
        "    \"\"\"\n",
        "    Function to plot confusion matrix between true values and predictions.\n",
        "    Input:\n",
        "    -----------\n",
        "    y_test - true values\n",
        "    y_pred - predicted values by a classification algorithm\n",
        "    \n",
        "    Output:\n",
        "    ----------\n",
        "    Seaborn plot\n",
        "    \"\"\"\n",
        "    \n",
        "    assert(y_test.shape == y_pred.shape)\n",
        "    \n",
        "    data = confusion_matrix(y_test, y_pred)\n",
        "    plt.figure(figsize=(8,8))\n",
        "    sns.heatmap(data,square = True, cmap = 'Blues', annot=True, fmt=\"0\" )\n",
        "    plt.xlabel('Predicted')\n",
        "    plt.ylabel('Actual')\n",
        "\n",
        "\n",
        "plot_confusion_matrix(y_test, y_pred_test)"
      ],
      "execution_count": 0,
      "outputs": [
        {
          "output_type": "display_data",
          "data": {
            "image/png": "[encoded data removed]",
            "text/plain": [
              "<Figure size 576x576 with 2 Axes>"
            ]
          },
          "metadata": {
            "tags": []
          }
        }
      ]
    },
    {
      "cell_type": "code",
      "metadata": {
        "id": "-H-_qUOwbx1c",
        "colab_type": "code",
        "outputId": "75f3640c-7fcd-4d45-dd72-247da1e5f280",
        "colab": {
          "base_uri": "https://localhost:8080/",
          "height": 104
        }
      },
      "source": [
        "target_score = 0.9950\n",
        "print(f'Target score {target_score:.4f}')\n",
        "print(f'Training score {train_score:.4f}')\n",
        "print(f'Test score {test_score:.4f}')\n",
        "print(f'Bias = {target_score - train_score:.4f}')\n",
        "print(f'Variance = {train_score - test_score:.4f}')"
      ],
      "execution_count": 0,
      "outputs": [
        {
          "output_type": "stream",
          "text": [
            "Target score 0.9950\n",
            "Training score 0.9876\n",
            "Test score 0.9729\n",
            "Bias = 0.0074\n",
            "Variance = 0.0147\n"
          ],
          "name": "stdout"
        }
      ]
    },
    {
      "cell_type": "markdown",
      "metadata": {
        "colab_type": "text",
        "id": "BOtKf4FHBGAl"
      },
      "source": [
        "With the KNeighborClassifier was achieved the top accuracy of classifications. If we accept that the maximum accuracy that could be achieved = 99.5%, because of the dimensionaly reduction and there could be misslabeled features. There is a 0.7% bias and 1.47% variance.\n"
      ]
    },
    {
      "cell_type": "markdown",
      "metadata": {
        "colab_type": "text",
        "id": "ysZ2TPfWBGAe"
      },
      "source": [
        "## **Conclusion**:  \n",
        "The result from the algorithm are very good, they have very high accuracy. This score could be compared in the official MNIST website[1]. The percent variance is 2x more than the bias in the tuned K-NeighborsClassifier. The next step could be adding more regularization as increasing the 'n_neighbors' value. This step should reduce the variance. On the step with dimensinality reduction was accepted to keep 69.2% of the data. This step is highly related with the final score of the algorithm. In the next steps of improving of the accuracy is to try with different values on PCA. Another things to try are neural networks combined with data augmentation techniques, image filters as bluring, rotating on small angle. \n"
      ]
    },
    {
      "cell_type": "markdown",
      "metadata": {
        "colab_type": "text",
        "id": "NA87XyXaBGAO"
      },
      "source": [
        "## References:  \n",
        "[1] MNIST dataset - http://yann.lecun.com/exdb/mnist/  \n",
        "[2] PCA analysis - https://jakevdp.github.io/PythonDataScienceHandbook/05.09-principal-component-analysis.html  \n",
        "[3] confusion_matrix - https://scikit-learn.org/0.17/auto_examples/model_selection/plot_confusion_matrix.html#example-model-selection-plot-confusion-matrix-py  \n",
        "[4] https://hackernoon.com/idiots-guide-to-precision-recall-and-confusion-matrix-b32d36463556  "
      ]
    }
  ]
}